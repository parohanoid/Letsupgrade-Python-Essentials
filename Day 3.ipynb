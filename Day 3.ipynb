{
 "cells": [
  {
   "cell_type": "code",
   "execution_count": 1,
   "metadata": {},
   "outputs": [
    {
     "name": "stdout",
     "output_type": "stream",
     "text": [
      "6000\n",
      "Try again\n"
     ]
    }
   ],
   "source": [
    "# Question 1\n",
    "altitude = int(input())\n",
    "if altitude<1000:\n",
    "    print(\"Safe to land\")\n",
    "elif altitude<5000:\n",
    "    print(\"Come down to 5000ft\")\n",
    "else:\n",
    "    print(\"Try again\")"
   ]
  },
  {
   "cell_type": "code",
   "execution_count": 10,
   "metadata": {},
   "outputs": [],
   "source": [
    "# Question 2\n",
    "prime = []\n",
    "for i in range(1,201):\n",
    "    if i>1:\n",
    "        for j in range(2,i):\n",
    "            if (i%j)==0:\n",
    "                break\n",
    "        else:\n",
    "            prime.append(i)"
   ]
  },
  {
   "cell_type": "code",
   "execution_count": null,
   "metadata": {},
   "outputs": [],
   "source": []
  }
 ],
 "metadata": {
  "kernelspec": {
   "display_name": "Python 3",
   "language": "python",
   "name": "python3"
  },
  "language_info": {
   "codemirror_mode": {
    "name": "ipython",
    "version": 3
   },
   "file_extension": ".py",
   "mimetype": "text/x-python",
   "name": "python",
   "nbconvert_exporter": "python",
   "pygments_lexer": "ipython3",
   "version": "3.7.3"
  }
 },
 "nbformat": 4,
 "nbformat_minor": 2
}
