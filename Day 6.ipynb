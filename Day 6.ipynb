{
 "cells": [
  {
   "cell_type": "code",
   "execution_count": 16,
   "metadata": {},
   "outputs": [],
   "source": [
    "#Question 1\n",
    "class bank_account():\n",
    "    def __init__(account,owner_name,balance):\n",
    "        account.owner_name = owner_name\n",
    "        account.balance = balance\n",
    "    \n",
    "    def deposit(account, amount):\n",
    "        account.balance = account.balance + amount\n",
    "    \n",
    "    def withdraw(account, amount):\n",
    "        if amount <= account.balance:\n",
    "            account.balance = account.balance - amount\n",
    "        else:\n",
    "            print(\"Amount to be withdrawn exceeds account balance.\")"
   ]
  },
  {
   "cell_type": "code",
   "execution_count": 17,
   "metadata": {},
   "outputs": [],
   "source": [
    "My_account = bank_account(\"Rohan\", 6000)"
   ]
  },
  {
   "cell_type": "code",
   "execution_count": 18,
   "metadata": {},
   "outputs": [],
   "source": [
    "My_account.deposit(2000)"
   ]
  },
  {
   "cell_type": "code",
   "execution_count": 19,
   "metadata": {},
   "outputs": [],
   "source": [
    "My_account.withdraw(3000)"
   ]
  },
  {
   "cell_type": "code",
   "execution_count": 20,
   "metadata": {},
   "outputs": [
    {
     "name": "stdout",
     "output_type": "stream",
     "text": [
      "Amount to be withdrawn exceeds account balance.\n"
     ]
    }
   ],
   "source": [
    "My_account.withdraw(50000)"
   ]
  },
  {
   "cell_type": "code",
   "execution_count": 30,
   "metadata": {},
   "outputs": [],
   "source": [
    "# Question 2\n",
    "import math\n",
    "class cone():\n",
    "    def __init__(cone, radius, height):\n",
    "        cone.radius = radius\n",
    "        cone.height = height\n",
    "    def volume(cone):\n",
    "        cone.volume = math.pi*(cone.radius**2)*cone.height/3\n",
    "        print(cone.volume)\n",
    "    def surface_area(cone):\n",
    "        cone.surface_area = (math.pi*(cone.radius**2)) + (math.pi*cone.radius*math.sqrt((cone.radius**2)+(cone.height**2)))\n",
    "        print(cone.surface_area)"
   ]
  },
  {
   "cell_type": "code",
   "execution_count": 31,
   "metadata": {},
   "outputs": [],
   "source": [
    "my_cone = cone(25,56)"
   ]
  },
  {
   "cell_type": "code",
   "execution_count": 32,
   "metadata": {},
   "outputs": [
    {
     "name": "stdout",
     "output_type": "stream",
     "text": [
      "36651.914291880916\n"
     ]
    }
   ],
   "source": [
    "my_cone.volume()"
   ]
  },
  {
   "cell_type": "code",
   "execution_count": 33,
   "metadata": {},
   "outputs": [
    {
     "name": "stdout",
     "output_type": "stream",
     "text": [
      "6780.106130288634\n"
     ]
    }
   ],
   "source": [
    "my_cone.surface_area()"
   ]
  },
  {
   "cell_type": "code",
   "execution_count": null,
   "metadata": {},
   "outputs": [],
   "source": []
  }
 ],
 "metadata": {
  "kernelspec": {
   "display_name": "Python 3",
   "language": "python",
   "name": "python3"
  },
  "language_info": {
   "codemirror_mode": {
    "name": "ipython",
    "version": 3
   },
   "file_extension": ".py",
   "mimetype": "text/x-python",
   "name": "python",
   "nbconvert_exporter": "python",
   "pygments_lexer": "ipython3",
   "version": "3.7.3"
  }
 },
 "nbformat": 4,
 "nbformat_minor": 2
}
